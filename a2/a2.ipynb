{
 "cells": [
  {
   "cell_type": "markdown",
   "metadata": {},
   "source": [
    "## Assignment 2\n",
    "\n",
    "### Problem 1\n",
    "\n",
    "1. Write a function that, given a data set $(X, y)$, a feature $j$, and a split point $s$, determines its associated MSE.\n",
    "\n",
    "2. Write a function that, given a data set $(X, y)$ and feature $j$ computes the split point $s$ leading to the smallest MSE.\n",
    "\n",
    "3. Write a function that, given a data set $(X, y)$ computes the feature/split point pair $(j, s)$ leading to the smallest MSE.\n",
    "\n",
    "4. Test your functions by computing the first feature/split point pair for a few random training subsets of the diabetes data set using both your function and `DecisionTreeRegressor` from scikit-learn."
   ]
  },
  {
   "cell_type": "code",
   "execution_count": 105,
   "metadata": {},
   "outputs": [],
   "source": [
    "def mse_from_feature_and_split(X, y, j, s):\n",
    "    pass\n",
    "#     return mse\n",
    "\n",
    "def split_from_feature(X, y, j):\n",
    "    pass\n",
    "#     return s\n",
    "\n",
    "def feature_split_pair(X, y):\n",
    "    pass\n",
    "#     return j, s"
   ]
  },
  {
   "cell_type": "markdown",
   "metadata": {},
   "source": [
    "### Problem 2\n",
    "\n",
    "The decision tree produced by fitting an instance `M` of `DecisionTreeRegressor` or `DecisionTreeClassifier` to data is stored in `M.tree_`. `M.tree_`, an instance of scikit-learn's internal `Tree` class (see below).\n",
    "\n",
    "Write a function that takes `M.tree_` as input and return a corresponding `graphviz` graph `G`.\n",
    "Label each node with its index, the feature on which it's split (for interior nodes), the splitting threshold (for interior nodes), and the regression/classification value for each leaf node.\n",
    "\n",
    "Demonstrate your function by plotting a regression tree for the diabetes data set and a classification tree for the breast cancer data set. Set a reasonable `max_depth` so that your tree fits on the screen."
   ]
  },
  {
   "cell_type": "code",
   "execution_count": 123,
   "metadata": {},
   "outputs": [],
   "source": [
    "from graphviz import Graph\n",
    "\n",
    "def to_graphviz(tree):\n",
    "    G = Graph()\n",
    "    for i in range(tree.node_count):\n",
    "        pass # make the nodes\n",
    "    for i in range(tree.node_count):\n",
    "        pass # make the edges\n",
    "    return G"
   ]
  },
  {
   "cell_type": "markdown",
   "metadata": {},
   "source": [
    "### Optional Bonus Problem\n",
    "\n",
    "Write a function that takes as input `M.tree_` and returns the feature importances. (You'll have to look up the precise formula for this.)"
   ]
  },
  {
   "cell_type": "code",
   "execution_count": 122,
   "metadata": {},
   "outputs": [
    {
     "data": {
      "text/plain": [
       "\u001b[0;31mType:\u001b[0m        Tree\n",
       "\u001b[0;31mString form:\u001b[0m <sklearn.tree._tree.Tree object at 0x1272c3ce0>\n",
       "\u001b[0;31mFile:\u001b[0m        /usr/local/lib/python3.7/site-packages/sklearn/tree/_tree.cpython-37m-darwin.so\n",
       "\u001b[0;31mDocstring:\u001b[0m  \n",
       "Array-based representation of a binary decision tree.\n",
       "\n",
       "The binary tree is represented as a number of parallel arrays. The i-th\n",
       "element of each array holds information about the node `i`. Node 0 is the\n",
       "tree's root. You can find a detailed description of all arrays in\n",
       "`_tree.pxd`. NOTE: Some of the arrays only apply to either leaves or split\n",
       "nodes, resp. In this case the values of nodes of the other type are\n",
       "arbitrary!\n",
       "\n",
       "Attributes\n",
       "----------\n",
       "node_count : int\n",
       "    The number of nodes (internal nodes + leaves) in the tree.\n",
       "\n",
       "capacity : int\n",
       "    The current capacity (i.e., size) of the arrays, which is at least as\n",
       "    great as `node_count`.\n",
       "\n",
       "max_depth : int\n",
       "    The depth of the tree, i.e. the maximum depth of its leaves.\n",
       "\n",
       "children_left : array of int, shape [node_count]\n",
       "    children_left[i] holds the node id of the left child of node i.\n",
       "    For leaves, children_left[i] == TREE_LEAF. Otherwise,\n",
       "    children_left[i] > i. This child handles the case where\n",
       "    X[:, feature[i]] <= threshold[i].\n",
       "\n",
       "children_right : array of int, shape [node_count]\n",
       "    children_right[i] holds the node id of the right child of node i.\n",
       "    For leaves, children_right[i] == TREE_LEAF. Otherwise,\n",
       "    children_right[i] > i. This child handles the case where\n",
       "    X[:, feature[i]] > threshold[i].\n",
       "\n",
       "feature : array of int, shape [node_count]\n",
       "    feature[i] holds the feature to split on, for the internal node i.\n",
       "\n",
       "threshold : array of double, shape [node_count]\n",
       "    threshold[i] holds the threshold for the internal node i.\n",
       "\n",
       "value : array of double, shape [node_count, n_outputs, max_n_classes]\n",
       "    Contains the constant prediction value of each node.\n",
       "\n",
       "impurity : array of double, shape [node_count]\n",
       "    impurity[i] holds the impurity (i.e., the value of the splitting\n",
       "    criterion) at node i.\n",
       "\n",
       "n_node_samples : array of int, shape [node_count]\n",
       "    n_node_samples[i] holds the number of training samples reaching node i.\n",
       "\n",
       "weighted_n_node_samples : array of int, shape [node_count]\n",
       "    weighted_n_node_samples[i] holds the weighted number of training samples\n",
       "    reaching node i.\n"
      ]
     },
     "metadata": {},
     "output_type": "display_data"
    }
   ],
   "source": [
    "M.tree_?"
   ]
  }
 ],
 "metadata": {
  "kernelspec": {
   "display_name": "Python 3",
   "language": "python",
   "name": "python3"
  },
  "language_info": {
   "codemirror_mode": {
    "name": "ipython",
    "version": 3
   },
   "file_extension": ".py",
   "mimetype": "text/x-python",
   "name": "python",
   "nbconvert_exporter": "python",
   "pygments_lexer": "ipython3",
   "version": "3.7.6"
  }
 },
 "nbformat": 4,
 "nbformat_minor": 4
}
